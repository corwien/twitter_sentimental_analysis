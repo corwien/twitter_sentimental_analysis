{
 "cells": [
  {
   "cell_type": "markdown",
   "metadata": {},
   "source": [
    "##### FETCHING TWEETS USING TWEEPY"
   ]
  },
  {
   "cell_type": "code",
   "execution_count": 1,
   "metadata": {},
   "outputs": [],
   "source": [
    "import tweepy\n",
    "import pandas as pd\n",
    "import numpy as np\n",
    "keys=pd.read_csv(r'C:\\Users\\mugesh\\Projects\\Sentimental_Analysis\\twitter_api_keys.csv')"
   ]
  },
  {
   "cell_type": "code",
   "execution_count": 2,
   "metadata": {},
   "outputs": [],
   "source": [
    "# Variables that contains the credentials to access Twitter API\n",
    "access_token = keys['API Keys'][0]\n",
    "access_secret = keys['API Keys'][1]\n",
    "consumer_key = keys['API Keys'][2]\n",
    "consumer_secret = keys['API Keys'][3]"
   ]
  },
  {
   "cell_type": "code",
   "execution_count": 3,
   "metadata": {},
   "outputs": [],
   "source": [
    "# Create the authentication object\n",
    "authenticate = tweepy.OAuthHandler(consumer_key,consumer_secret) \n",
    "# Set the access token and access token secret\n",
    "authenticate.set_access_token(access_token,access_secret) \n",
    "# Creating the API object while passing in auth information\n",
    "api = tweepy.API(authenticate, wait_on_rate_limit = True,)"
   ]
  },
  {
   "cell_type": "code",
   "execution_count": 4,
   "metadata": {},
   "outputs": [
    {
     "name": "stdout",
     "output_type": "stream",
     "text": [
      "It isn’t often that one needs driving lessons to guide a robot through an art gallery, but these are strange times https://t.co/ZbyXKoDMuC\n",
      "Read updates in Chinese: 新冠病毒疫情最新消息 https://t.co/EItmarz4rX\n",
      "The latest on the coronavirus:\n",
      "—Israel said it would soon begin easing isolation restrictions.\n",
      "—Performers joined t… https://t.co/TuVzuIEPS7\n",
      "Ciudad Perdida, Colombia’s “Lost City,” is stunning in its scale and complexity: an 80-acre site — parts of which d… https://t.co/fuo64cHRWv\n",
      "Children bring all kinds of wacky things to bed with them. @nytparenting spoke to experts about what it can tell pa… https://t.co/1MyGAWrQgS\n",
      "What does New York City’s Tiger Man — the one who in 2003 was found to be keeping a full-grown tiger in his Harlem… https://t.co/Kp6seWU9Yx\n",
      "Virtual dating platforms are quickly pivoting to help social-distancing singles. “It is an entirely possible scenar… https://t.co/x23MzWG2lA\n",
      "Which companies should you ask for a refund? It might be more complicated than you think. @ronlieber explains. https://t.co/bwg4UBOo9b\n",
      "We looked at coronavirus testing in states across the U.S. See how your state compares — and how close it is to wha… https://t.co/yqUXfsc6e6\n",
      "Here's how millions of women became the most essential workers in America: One in 3 jobs held by women has been des… https://t.co/OHyvOnxska\n",
      "The coronavirus pandemic has taken an incalculable death toll. We're putting names and faces to the numbers. Here a… https://t.co/S1jFBYDPhX\n",
      "Ferdi German, an Army veteran who worked as a subway car inspector in New York City, died of the coronavirus at age… https://t.co/5QblhwAfpI\n",
      "Video: Alex Jones, the Infowars founder and conspiracy theorist who falsely called the Sandy Hook school shooting a… https://t.co/uoIW3BLdkS\n",
      "RT @marclacey: \"From the cashier to the emergency room nurse to the drugstore pharmacist to the home health aide taking the bus to check on…\n",
      "As soon as the clock ticked past 5 p.m. on Friday — signaling the limited reopening of beaches in Jacksonville, Flo… https://t.co/RIS9DLNtjc\n",
      "Financial markets can be bewildering at the best of times. But the coronavirus has made the task of understanding t… https://t.co/xA4ac3FzOc\n",
      "On our new podcast \"Rabbit Hole,\" our tech columnist @KevinRoose tries to figure out what exactly happens to us whe… https://t.co/GFg207Cs4O\n",
      "On March 1, Joe Joyce and his wife, Jane, set sail from Florida for Spain on a cruise, despite warnings from his ch… https://t.co/Yf2oXcUmNY\n",
      "Republicans think blaming China for the coronavirus is a winning strategy for the November election. But President… https://t.co/mf5KuJ1APq\n",
      "A pharmacist in Auburn, Nebraska, conspired with a drug dealer to rob and firebomb a competitor’s pharmacy because… https://t.co/3wKFUjkoBs\n",
      "RT @nytpolitics: A rising star in the Democratic Party and a prominent foil to President Trump, Michigan Governor Gretchen Whitmer is stirr…\n",
      "Two of the three CDC labs that created coronavirus test kits violated their own manufacturing standards, resulting… https://t.co/u2e36ZtT9h\n",
      "Can’t find all-purpose flour? Out of whole-wheat? This guide from @NYTFood  will help you find what you can use ins… https://t.co/rn7vSREkva\n",
      "Meat plants in the U.S., honed over decades for maximum efficiency and profit, have become major hot spots for the… https://t.co/0reEp3nZp3\n",
      "In Opinion\n",
      "\n",
      "\"I never really questioned the things that felt unfair in my job,\" writes Violet Moya. \"I thought if I… https://t.co/IBuJ5HELYB\n",
      "\"When, one day, we get to return to our regular studios, the feel of a regular Marley dance floor and perfectly sit… https://t.co/Q4YmmdabBy\n",
      "New Jersey currently has the highest positive rate of all states — about half of its 157,000 coronavirus tests have… https://t.co/GY9A7MkGd3\n",
      "State by state in the U.S., there's a wide variation in the rate of testing and positive results. But most need to… https://t.co/Ll4dLNDXb0\n",
      "A high rate of positive tests suggests that most people with the virus aren't being tested.\n",
      "\n",
      "About 20% of people te… https://t.co/gEtyCZXgLD\n",
      "A shortage of test kits and technical flaws in the U.S. significantly delayed widespread coronavirus testing.\n",
      "\n",
      "This… https://t.co/h0lo1gZPSW\n",
      "First, the numbers:\n",
      "\n",
      "146,000 — that's how many people on average were tested for the coronavirus each day in the U.… https://t.co/WDX2gMjWCb\n",
      "The U.S. isn't doing nearly enough coronavirus testing to safely reopen, new estimates by Harvard University resear… https://t.co/60X5yNViY5\n",
      "Professional basketball, soccer and hockey games were suspended. Major League Baseball canceled the start of its se… https://t.co/BPoPEOzDpH\n",
      "RT @NickAtNews: Polls show that most Americans support restrictions meant to combat the virus. In a recent @pewresearch survey, about 2/3 t…\n",
      "Facebook videos, simultaneous Zoom calls and folding tables in the living room: This is how Congress is working fro… https://t.co/ZEiFmLW75E\n",
      "Germany has become a leader among Western nations in figuring out how to control the coronavirus contagion while re… https://t.co/nNv4AFm7AI\n",
      "An unexpected surge in Covid-19 patients with kidney failure has left doctors facing new life-and-death calculation… https://t.co/msPDLmb6cz\n",
      "How the pandemic will end depends in part on medical advances still to come — and on how individuals behave in the… https://t.co/Jc4TevjoUt\n",
      "This is not a world in which “America First” is a viable strategy, experts said. https://t.co/2ZsWd5NX4H https://t.co/6tIAfSTFKH\n",
      "Treatments are likely to arrive first — in the short term, experts are more optimistic about them than vaccines.… https://t.co/1LJ1AmQ0tV\n",
      "There will not be a vaccine soon. https://t.co/2ZsWd5NX4H https://t.co/QKF3NWNUVs\n",
      "The virus can be kept in check, but only with expanded resources. https://t.co/2ZsWd5NX4H https://t.co/MFDkIsQij9\n",
      "Immunity will become a societal advantage.\n",
      "\n",
      "“It will be a frightening schism,” Dr. David Nabarro, a WHO special env… https://t.co/s6o32Sq64X\n",
      "The lockdowns will end, but haltingly.\n",
      "\n",
      "If Americans pour out in full force before a vaccine or another protective… https://t.co/hHF1BhCmRT\n",
      "More Americans may die than the White House is admitting.\n",
      "\n",
      "The scenario President Trump has been unrolling at his b… https://t.co/ZuJANSzeo3\n",
      "Our infectious diseases reporter Donald G. McNeil Jr. asked experts what they expect in the near future in the U.S.… https://t.co/1UIrfLV4NZ\n",
      "RT @carolrosenberg: The coronavirus and the military judge’s abrupt decision to retire from the Air Force are just the latest reasons for d…\n",
      "While you’re at home waiting for travel restrictions to be lifted, @NYTimesTravel invites you to take a virtual vis… https://t.co/oMjelXF0QL\n",
      "Many experts are worried about chronic shortages of basic supplies needed to slow the spread of the coronavirus in… https://t.co/evk5sUUfof\n",
      "The border between the U.S. and Canada will remain closed for another 30 days, Prime Minister Justin Trudeau said o… https://t.co/wKVcjqHnhQ\n",
      "\"There is still scared people and tension in the air, and you can feel the frustration of being kept inside.\" From… https://t.co/vRN1IblzD4\n",
      "\"What it feels like is the Democratic Party relies on guilting progressives into voting for them,\" one nursing stud… https://t.co/29FysjSWBn\n",
      "Michigan Gov. Gretchen Whitmer, a possible Democratic vice-presidential pick, has been increasingly targeted by rig… https://t.co/9lJlcnqYzR\n",
      "President Trump’s vision for a swift return to normal is a fantasy, over 20 experts told us. Here’s what they predi… https://t.co/HGdeGAAprq\n",
      "The CDC has advised Americans to wear face masks to slow the spread of the coronavirus, and around the world, peopl… https://t.co/q9nu8tMonz\n",
      "“If you won’t protect and defend your players, you sure as hell are not going to protect your fans,” said one woman… https://t.co/6EQ8YW7Aaw\n",
      "The coronavirus pandemic has taken an incalculable death toll. We're putting names and faces to the numbers. Here a… https://t.co/SBRHvT4S8W\n",
      "Raymond Copeland raised 3 girls as a single father after their mother died. His job with the NYC Department of Sani… https://t.co/CxDv213RAl\n",
      "Hear tracks by Bon Iver, the Streets, Norah Jones, American Football and others on this week’s playlist\n",
      "https://t.co/1L3Fh3pRDt\n",
      "The U.S. is continuing deportations during the pandemic, flying thousands of people from the country with the most… https://t.co/H6qEg2QcjI\n",
      "RT @collinskeith: The U.S. cannot safely reopen until coronavirus testing is at least *tripled*, experts say. New from @haeyoun, @TroyEricG…\n",
      "RT @jakesilverstein: This week's @NYTmag cover features a powerful photo by @philip_nyc, who's done incredible work in NYC during this cris…\n",
      "The New York accent is both music and ideology, instantly recognizable as sound and almost physically palpable, too… https://t.co/JoIgSeqxO7\n",
      "RT @DanBarryNYT: Among those we’ve lost: Tarlach MacNiallais, great champion of inclusion for the long excluded. Here’s my small obit/tribu…\n",
      "A nurse. A restaurant worker known for spectacular drag performances. A father who gave up banking for the luxury o… https://t.co/RpbucDJjcA\n",
      "Federal prosecutors have charged a doctor in Southern California with fraud for selling coronavirus treatments onli… https://t.co/BZcNbCJCZR\n",
      "More than a dozen leading pro-democracy activists and former lawmakers in Hong Kong were arrested in connection wit… https://t.co/jaNkDCjOnY\n",
      "Right-wing activists and Trump supporters in Texas plan to protest at the Capitol building in Austin on Saturday to… https://t.co/ZYZOR5Wdi4\n",
      "1 in 3 jobs held by women in America has been designated as essential. Nonwhite women are more likely to be doing e… https://t.co/iTreJ7wgwz\n",
      "A tutorial on how to make your own fabric face mask from common household materials https://t.co/4u9vYEpBeX\n",
      "Early polling suggests that those protesting against government restrictions meant to limit the spread of the coron… https://t.co/0Gi43g9psL\n",
      "For today, April 18, here’s how to follow the latest on the coronavirus outbreak. We’ll update this every day.\n",
      "\n",
      "🌎 L… https://t.co/lxJOHIhnUl\n",
      "New estimates by Harvard researchers suggest that the U.S. cannot safely reopen unless it conducts more than 3 time… https://t.co/nF5xWOS4p9\n",
      "The coronavirus has thrust politics front and center into daily life for many Americans. And agreeing to disagree c… https://t.co/BK6Ex20Xm1\n",
      "RT @GailBichler: This week’s @NYTmag is devoted to photographs and stories from inside New York City’s hospitals as the pandemic hit. Power…\n",
      "Read updates in Chinese: 新冠病毒疫情最新消息\n",
      "https://t.co/YKtTjij7RG\n",
      "—Italy's lockdown has led to a drastic drop in coronavirus ICU patients\n",
      "—Iran lifts Tehran's lockdown, despite warn… https://t.co/4NYZNjBeXP\n",
      "These pancakes are perfectly fluffy because of the leavening agent and a vegan version of buttermilk https://t.co/XsOAX9Y27l\n",
      "RT @PamelaPaulNYT: If you want to have a lot of fun on your podcast, invite Samantha Irby on as a guest. Thanks, @wordscience, for making m…\n",
      "From @NYTParenting: These are some of the most delightful children's TV shows for when you're \"co-viewing\" with you… https://t.co/hBvVBa9FEo\n",
      "RT @JulietMacur: Kevin Babington, a beloved Olympic show jumper, was flung from his horse at the Hampton Classic last summer. The story of…\n",
      "\"It is a new world.\"\n",
      "\n",
      "Danish elementary schools have become the first in Europe to reopen after closing because of… https://t.co/nhaG7LDRBZ\n",
      "RT @meganspecia: The pandemic is a challenge not only for public health but also for messaging. Here’s how some world leaders have talked t…\n",
      "With arts institutions closed around the world, Hastings Contemporary museum in England is offering virtual tours u… https://t.co/4nV9dqohx0\n",
      "The Illinois Senate president asked for $40 billion to help the pension system, fund unemployment insurance and aid… https://t.co/QB7xdwPxz1\n",
      "RT @nytimestravel: With ports across the Caribbean closed, many sailors converged on the only available and practical harbor of refuge: the…\n",
      "12 new books recommended by critics and editors at The New York Times\n",
      "https://t.co/aIwdiZFnte\n",
      "RT @nytopinion: A new project from Times Opinion\n",
      "\n",
      "\"Many Americans have demonstrated heroic strength during the coronavirus pandemic, but th…\n",
      "A Dallas homeless shelter was evacuated on Friday after 38 residents tested positive for the coronavirus https://t.co/Cpefzh9N3p\n",
      "RT @joncaramanica: spoke to my best friends/prayer circle @JonPareles @lindsayzoladz @Wesley_Morris about the thunderous fiona record\n",
      "\n",
      "http…\n",
      "In tweets that started minutes after a Fox News report on the protests, Trump's words were a remarkable example of… https://t.co/cj5uVH5Vtm\n",
      "“People are dealing with anxiety, and they haven’t seen their family and friends,” said one of the interviewers for… https://t.co/zqvPH54EDK\n",
      "RT @nytgraphics: 50 years ago today, the crew of Apollo 13 returned safely to Earth, days after an explosion prompted the famous line: “Hou…\n",
      "A moment of hope far from the virus: Despite a fall that paralyzed him, an Olympic equestrian hasn’t abandoned the… https://t.co/gkWTiYVseQ\n",
      "Free Shakespeare in the Park, a treasured rite of summer in New York, will not take place this year because of the… https://t.co/V7taUAU86f\n",
      "RT @MWilsonNYT: It’s taken our schoolrooms, our jobs, our handshakes and hugs, and now, half of our very faces. Mandatory mask order kicks…\n",
      "At least 14 nursing homes in New York City and its suburbs have recorded more than 25 coronavirus-related deaths, a… https://t.co/P88e0Ar84l\n",
      "Land O’Lakes, a farmer-owned cooperative formed in 1921, said it would replace the decades-old illustration with ph… https://t.co/It2t6FWMbD\n",
      "RT @juliehdavis: Some of them said they regarded Mr. Mnuchin as essentially a Democrat, and one senior Republican...said the Treasury secre…\n",
      "Evening Briefing: Here's what you need to know at the end of the day https://t.co/inonC1sSwg\n",
      "The New York Liberty chose Oregon’s Sabrina Ionescu with the No. 1 pick in the WNBA draft. The season is postponed… https://t.co/E427v9vbUd\n",
      "RT @SherylNYT: Trump may have the Rose Garden but ⁦@SpeakerPelosi⁩ is waging her own media blitz from her San Francisco kitchen. “I don’t w…\n",
      "Live Nation Entertainment, the global concert giant that owns Ticketmaster, announced a program to offer refunds an… https://t.co/uTM1QpuGpP\n",
      "An Olympian and top coach was flung from his horse last summer. The story of his great career could have ended ther… https://t.co/u1vI1ZbEej\n",
      "RT @NYTNational: Where do you go to escape? How you are using time outdoors as a balm or a distraction from the pandemic? We're asking. htt…\n",
      "The shortage of personal protective equipment in the U.S. means few clinical interpreters are able to work in perso… https://t.co/7rKVKU7F62\n",
      "The coronavirus has caused a never-before-seen surge in jobless claims in the U.S., and state unemployment systems… https://t.co/vqFMvgSHDA\n",
      "RT @katie_thomas: Hydroxychloroquine has become a political litmus test. But doctors on the front lines see it as just another tool to trea…\n",
      "So let's say you have a secret baby. And working from home is making it hard to keep the secret from a business par… https://t.co/no7YQADbPA\n",
      "RT @PatcohenNYT: The outbreak and attempts to curb it have created new hardships. But perhaps more significantly, the crisis has revealed p…\n",
      "In On Tech, @ShiraOvide talks with @nytopinion’s @cwarzel about his conflicting views on technology right now, and… https://t.co/cBVs95rU2I\n",
      "A Nebraska mall owner wants to be a \"case study\" for shuttered businesses anxious to reopen. His plan to resume bus… https://t.co/njCQWRPK1x\n",
      "\"Don't pop the bubble.\" Staying safe during the coronavirus pandemic means protecting your space. But what if the p… https://t.co/7mChYqxQnX\n",
      "An editor on the Obituaries desk, @danwakin, contributed to our Portraits of Grief series in which we profiled the… https://t.co/o9Zae6SOk1\n",
      "Our reporters would like to hear about anyone you knew who has died from the coronavirus. Please tell us about them… https://t.co/CjnGZiVIm8\n",
      "Look back on the lives we've lost to the coronavirus pandemic https://t.co/SQLpiyv8Qp\n",
      "Floyd Cardoz was the first chef to bring the sweep and balance of his native Indian cooking to fine dining in the U… https://t.co/aFJNJ59e0S\n",
      "Kious Kelly, an assistant nurse manager at Mount Sinai West in Manhattan, may have been the first nurse in New York… https://t.co/og6Tp1Zps2\n",
      "A beloved comedian, Ken Shimura’s slapstick humor made him a household name in Japan for nearly 5 decades. He was 7… https://t.co/kiHS0AQNox\n",
      "Sergio Rossi was part of the postwar generation that transformed Italian fashion. He was known for perfectly balanc… https://t.co/8W4aRxZnWn\n",
      "In Tulsa, Oklahoma, Israel Sauz and his wife had recently celebrated their first wedding anniversary and welcomed t… https://t.co/hDloavg0LB\n",
      "“I knew I was going to be a lawyer when I was a little girl,” Lila Fenwick once said. In 1956, she became the first… https://t.co/RLdzZR8TOj\n",
      "Hailey Herrera was that friend you went to when you had a problem. She was putting her natural talent to work as sh… https://t.co/3xEd0eb3RZ\n",
      "As a detective with the NYPD, Cedric Dixon was assigned to the 32nd Precinct, covering Harlem. At 48, he is believe… https://t.co/stsPYoCcfX\n",
      "Romi Cohn was just 15 when he joined the underground resisting the Nazis in what was then Czechoslovakia, working t… https://t.co/37QF9zZumg\n",
      "April Dunn, an advocate for people with disabilities who worked for the governor of Louisiana, died from the virus… https://t.co/x66GbThZgQ\n",
      "Michael Angel Bastiaans, a teacher in Indonesia, was the kind of teacher who gave his lunch to a hungry student. “H… https://t.co/mxF54tGMPb\n",
      "The coronavirus has claimed the lives of more than 145,000 people around the world — artists, scientists, parents,… https://t.co/pHrudp5z73\n",
      "\"We have been having affairs. Not with other people, but with our respective homes and hometowns.\"\n",
      "https://t.co/Ee5BLZh3oF\n",
      "At least 6,900 people living in or connected to nursing homes across the U.S. have died of the coronavirus, a New Y… https://t.co/GtoLoTj7ax\n",
      "Here’s a llama, there’s a llama, and another little llama. When did the spitting pack animal become the newest “it”… https://t.co/EUSHpoHuI3\n",
      "RT @danielle_ivory: A nationwide tally by The @nytimes has found the number of people tied to nursing homes who have died of the coronaviru…\n",
      "And no matter which mask you wear, for it to be effective, it’s important that you wear it properly. Here are the d… https://t.co/yMy8Arm1jQ\n",
      "See more in our full guide to find a mask that is right for you https://t.co/UTxxUqtf7a\n",
      "Some homemade masks have a pocket for an additional filter. These can be effective, but they present risks. Many pe… https://t.co/o4LRg2UMpP\n",
      "With medical masks in short supply, many people have turned to homemade ones, which can be as effective. Any face c… https://t.co/tZ3CmoElGR\n",
      "Medical masks come in a few varieties and are less effective than the N95. But when worn properly, they can help pr… https://t.co/ubOhADRzIn\n",
      "The N95 is the most recognizable and effective mask — the name means it can block at least 95% of tiny particles. I… https://t.co/fMRpTJ26xW\n",
      "U.S. officials advised everyone to wear masks in public, and some states like New York will soon require them where… https://t.co/lwbG1E1T2b\n",
      "Wearing a face mask can:\n",
      "😷 Slow the spread of the coronavirus.\n",
      "😷 Help you avoid getting sick.\n",
      "😷 Protect those you e… https://t.co/ozcJrRYBP0\n",
      "RT @emmabgo: NEW for @NYTScience: Because personal protective equipment is in short supply, medical interpreters have to work remote. \"We a…\n",
      "Doctors facing a shortage of ventilators have turned to \"battlefield interventions\" to treat coronavirus patients.… https://t.co/9oMiVazVv9\n",
      "Uber and Lyft face an existential question: How will they and their drivers stay afloat when most people are stayin… https://t.co/73qaPqlbZr\n",
      "Breaking News: President Trump encouraged resistance to 3 Democratic governors’ lockdowns meant to slow the spread… https://t.co/zIeAqnR5YF\n",
      "Critic’s Notebook: Our restaurant critic @pete_wells writes about the comfort of watching a 6-hour video of sheep g… https://t.co/479A6A3c9W\n",
      "\"It is a new world.\"\n",
      "\n",
      "Danish elementary schools have become the first in Europe to reopen after closing because of… https://t.co/DST2cWEWFl\n",
      "In Opinion\n",
      "\n",
      "Columnist @fmanjoo is discussing their column, \"The Leaders Who Passed the Coronavirus Test\"… https://t.co/jrFqLPKaZ1\n",
      "Nearly half of the roughly 2,300 sailors from France's Charles de Gaulle carrier group have tested positive for the… https://t.co/8ZvMDg5Mr1\n",
      "RT @amandahess: I wrote about why we're obsessed with tales of how \"the Earth is healing\" during the pandemic, a trend that simultaneously…\n",
      "Starting Friday night at 8 p.m. Eastern, people in New York must wear face coverings in public places where they ca… https://t.co/qvb4r4dQQm\n",
      "“Hopefully people will watch it and learn from it how you should treat yourself.”\n",
      "\n",
      "This adaptation of Sally Rooney’… https://t.co/yFrnY1iRoO\n",
      "In Opinion\n",
      "\n",
      "\"My parents very much believe that you can pull yourself up by your bootstraps,\" Melissa Haddock, an ad… https://t.co/1zMbg9hkYu\n",
      "In Opinion\n",
      "\n",
      "\"Even with our own government’s insistence on embargoing essential deliveries to Cuba without cash paym… https://t.co/jzxznGzxnp\n",
      "RT @CoraEngelbrecht: Hundreds of ultra-Orthodox Jews are estimated to have died from coronavirus in Brooklyn. We spoke with members of the…\n",
      "Breaking News: Michael Cohen, President Trump’s former lawyer, will be released from federal prison into home confi… https://t.co/D8H5nYL6T3\n",
      "Dr. Mehmet Oz, the television personality and heart surgeon, said he “misspoke” in recent remarks saying that reope… https://t.co/F0YhAASHKW\n",
      "In Opinion\n",
      "\n",
      "\"At this moment in American life, it feels as if one movement, a reactionary one, is beginning to unrav… https://t.co/xXfenKIPsx\n",
      "Amid the coronavirus crisis, Alexandria Ocasio-Cortez believes progressive policies are a matter of life and death.… https://t.co/ZUMHy1vJhQ\n",
      "RT @MichaelPaulson: Free Shakespeare in the Park, a staple of summer in New York City, is being canceled because of the pandemic. And the P…\n",
      "Around the world, people are posing as famous portraits with toilet paper, bedsheets, drawn-on unibrows, and did we… https://t.co/ASWwv8sdEv\n",
      "Hundreds of doctors and public health specialists are calling on the FDA to eliminate constraints on blood donation… https://t.co/dycHs5qFQE\n",
      "U.S. stocks rose about 2% as investors rallied on efforts to reopen parts of the economy https://t.co/tBkkuIZb8i\n",
      "Since the coronavirus outbreak reached the United States, Amazon has struggled to respond to a surge in orders. Thi… https://t.co/4ex6Xo1Yge\n",
      "In New York City, fewer victims of domestic abuse have been calling the police or the city’s hotline since the coro… https://t.co/SJbXVQru7B\n",
      "Did you follow the headlines this week? Take our quiz to find out. https://t.co/cuW2C6eYHh\n",
      "China has raised its coronavirus death toll by 50% in Wuhan, where the coronavirus outbreak first emerged, amid acc… https://t.co/JjX2sNkwrz\n",
      "Here’s a look at some of the types of face masks you might encounter, how they work, what to consider when making y… https://t.co/uwYx6nui1d\n",
      "Morning briefing: Here's what you need to know to start your day https://t.co/b88ecJGbJr\n",
      "For many of us, the world has been reduced to what we experience on screens. And the things on those screens are no… https://t.co/zWprSQ7P9r\n",
      "Starting tonight, people in New York must wear face coverings in public places where they can not keep 6 feet away… https://t.co/4mL54u04b2\n",
      "Covid-19 is on track to kill far more people in the United States this year than the seasonal flu. But determining… https://t.co/jsaHukUQIb\n",
      "For today, April 17, here’s how to follow the latest on the coronavirus outbreak. We’ll update this every day. \n",
      "\n",
      "🌎… https://t.co/5IS5ggnKAq\n",
      "France treasures personal freedoms and privacy, but with the coronavirus death toll approaching 18,000, its opposit… https://t.co/7br5SWUhM2\n",
      "With limited, constantly shifting information, the W.H.O. showed an early, consistent determination to treat the ne… https://t.co/WWdqZeyWlU\n",
      "Bill Gates, the Microsoft co-founder turned philanthropist, has now become the star of an explosion of conspiracy t… https://t.co/dnxApRHl44\n",
      "“I’d never seen anything like it in my 32 nursing career, it was horrific, there wasn’t enough food to feed people,… https://t.co/H3GdnW5ANv\n",
      "Nora Illi was a Swiss convert to Islam who believed Muslim women should have the right to wear full-body veils and… https://t.co/cHb8wHIhXU\n",
      "Officially, Spain’s death toll, which remains among the world’s highest, is closing in on 20,000. But there is evid… https://t.co/hARZ7bJ5Qg\n",
      "Singapore announced a record jump in coronavirus cases for the second day in a row, with most of the 728 new infect… https://t.co/bjwrP2Tnoq\n",
      "There have been at least 103,000 confirmed cases of coronavirus in the United Kingdom. A detailed map shows the ext… https://t.co/XS3HHvtFrO\n",
      "RT @nytimesworld: Bill Gates is being falsely portrayed as the creator of Covid-19, as a profiteer from a virus vaccine, and as part of a p…\n",
      "The British government paid two Chinese companies $20 million for 2 million tests kits for antibodies to the corona… https://t.co/VGKYeScSPQ\n",
      "As of this week, Spain is beginning to loosen some restrictions for workers and business owners. But children remai… https://t.co/Crh9SiaLku\n",
      "Britain confirmed on Thursday that it would prolong its lockdown for at least three more weeks as part of efforts t… https://t.co/6VTnJj33aS\n",
      "Celebrities and public figures are the most visible targets of corona-shaming, and are getting roasted on social me… https://t.co/PLh0jvUWeO\n",
      "For all the anti-foreign propaganda and censorship in China, regular people are often willing to share their experi… https://t.co/eVPWLyp9dY\n",
      "Europe morning briefing: Here's what you need to know to start your day https://t.co/cUHNWT0QSc\n",
      "Ice patches that melted from the slopes of a mountain pass in Norway revealed artifacts that provide new insight in… https://t.co/oqAq5rhRoK\n",
      "RT @stevenleemyers: The world’s second-largest economy shrank in the first three months of the year, ending a streak of untrammeled growth…\n",
      "RT @halbfinger: “Any suggestion that the administration’s stance toward the Palestinians could be thawing would be a misreading.”\n",
      "Our brief…\n",
      "China said on Friday that its $14 trillion economy shrank 6.8% in the first quarter, ending nearly half a century o… https://t.co/DFFPETKRDn\n",
      "12 new books recommended by critics and editors at The New York Times\n",
      "https://t.co/FC3D6sPafb\n",
      "RT @jwpetersNYT: “We’re living in a terrible time in America where truth has died.” As right-wing media tries to rewrite history and deny i…\n",
      "Boeing plans to bring about 27,000 employees back to work in Washington State to resume aircraft production. The an… https://t.co/elJgiXHk9O\n",
      "\"We had come to Hefei, a middle-class city in central China, to chronicle the country’s emergence from its devastat… https://t.co/ZuZRI5MGby\n",
      "President Trump has made many promises about responding to the coronavirus crisis. But many of them remain unfulfil… https://t.co/JVFoI9NGBI\n",
      "RT @danielle_ivory: \"Two workers at the home, which has 227 beds, also told The @nytimes  that the actual death toll was considerably highe…\n",
      "Read updates in Chinese: 新冠病毒疫情最新消息 https://t.co/onseGxquLq\n",
      "—Brazil's president fired his health minister after a disagreement over how tough lockdown measures should be\n",
      "—The… https://t.co/ji9ASPYj42\n",
      "A Massachusetts man was charged with trying to blow up a Jewish assisted-living center that had been targeted for a… https://t.co/pxIwQxNlqx\n"
     ]
    }
   ],
   "source": [
    "# tweets from a specific user\n",
    "ny_tweets = api.user_timeline('@nytimes',count=200)\n",
    "for tweets in ny_tweets:\n",
    "    print(tweets.text)"
   ]
  },
  {
   "cell_type": "code",
   "execution_count": 5,
   "metadata": {},
   "outputs": [],
   "source": [
    "# fuction to extract data from tweet object\n",
    "def extract_tweet(tweet_object):\n",
    "    # create empty list\n",
    "    tweet_list =[]\n",
    "    # loop through tweet objects\n",
    "    for tweet in tweet_object:\n",
    "        tweet_id = tweet.id # unique integer identifier for tweet\n",
    "        text = tweet.text # utf-8 text of tweet\n",
    "        created_at = tweet.created_at # utc time tweet created\n",
    "        source = tweet.source # utility used to post tweet\n",
    "        retweets = tweet.retweet_count # number of times this tweet retweeted\n",
    "        favorites = tweet.favorite_count # number of time this tweet liked\n",
    "        # append attributes to list\n",
    "        tweet_list.append({'tweet_id':tweet_id, \n",
    "                          'text':text, \n",
    "                          'time':created_at, \n",
    "                          'source':source, \n",
    "                          'retweets':retweets,\n",
    "                          'favorites':favorites})\n",
    "    # create dataframe   \n",
    "    df = pd.DataFrame(tweet_list, columns=['tweet_id','text','time','source','retweets','favorites'])\n",
    "    return df\n",
    "\n",
    "\n",
    "df = extract_tweet(ny_tweets)"
   ]
  },
  {
   "cell_type": "code",
   "execution_count": 6,
   "metadata": {},
   "outputs": [
    {
     "data": {
      "text/html": [
       "<div>\n",
       "<style scoped>\n",
       "    .dataframe tbody tr th:only-of-type {\n",
       "        vertical-align: middle;\n",
       "    }\n",
       "\n",
       "    .dataframe tbody tr th {\n",
       "        vertical-align: top;\n",
       "    }\n",
       "\n",
       "    .dataframe thead th {\n",
       "        text-align: right;\n",
       "    }\n",
       "</style>\n",
       "<table border=\"1\" class=\"dataframe\">\n",
       "  <thead>\n",
       "    <tr style=\"text-align: right;\">\n",
       "      <th></th>\n",
       "      <th>tweet_id</th>\n",
       "      <th>text</th>\n",
       "      <th>time</th>\n",
       "      <th>source</th>\n",
       "      <th>retweets</th>\n",
       "      <th>favorites</th>\n",
       "    </tr>\n",
       "  </thead>\n",
       "  <tbody>\n",
       "    <tr>\n",
       "      <th>0</th>\n",
       "      <td>1251737354815057920</td>\n",
       "      <td>It isn’t often that one needs driving lessons ...</td>\n",
       "      <td>2020-04-19 05:00:16</td>\n",
       "      <td>SocialFlow</td>\n",
       "      <td>61</td>\n",
       "      <td>233</td>\n",
       "    </tr>\n",
       "    <tr>\n",
       "      <th>1</th>\n",
       "      <td>1251726366367776768</td>\n",
       "      <td>Read updates in Chinese: 新冠病毒疫情最新消息 https://t....</td>\n",
       "      <td>2020-04-19 04:16:36</td>\n",
       "      <td>Twitter Web App</td>\n",
       "      <td>18</td>\n",
       "      <td>53</td>\n",
       "    </tr>\n",
       "    <tr>\n",
       "      <th>2</th>\n",
       "      <td>1251726143767658497</td>\n",
       "      <td>The latest on the coronavirus:\\n—Israel said i...</td>\n",
       "      <td>2020-04-19 04:15:43</td>\n",
       "      <td>SocialFlow</td>\n",
       "      <td>89</td>\n",
       "      <td>272</td>\n",
       "    </tr>\n",
       "    <tr>\n",
       "      <th>3</th>\n",
       "      <td>1251724703452008449</td>\n",
       "      <td>Ciudad Perdida, Colombia’s “Lost City,” is stu...</td>\n",
       "      <td>2020-04-19 04:09:59</td>\n",
       "      <td>SocialFlow</td>\n",
       "      <td>163</td>\n",
       "      <td>556</td>\n",
       "    </tr>\n",
       "    <tr>\n",
       "      <th>4</th>\n",
       "      <td>1251717166606569473</td>\n",
       "      <td>Children bring all kinds of wacky things to be...</td>\n",
       "      <td>2020-04-19 03:40:02</td>\n",
       "      <td>SocialFlow</td>\n",
       "      <td>51</td>\n",
       "      <td>242</td>\n",
       "    </tr>\n",
       "    <tr>\n",
       "      <th>...</th>\n",
       "      <td>...</td>\n",
       "      <td>...</td>\n",
       "      <td>...</td>\n",
       "      <td>...</td>\n",
       "      <td>...</td>\n",
       "      <td>...</td>\n",
       "    </tr>\n",
       "    <tr>\n",
       "      <th>195</th>\n",
       "      <td>1251007502357016580</td>\n",
       "      <td>President Trump has made many promises about r...</td>\n",
       "      <td>2020-04-17 04:40:05</td>\n",
       "      <td>SocialFlow</td>\n",
       "      <td>281</td>\n",
       "      <td>637</td>\n",
       "    </tr>\n",
       "    <tr>\n",
       "      <th>196</th>\n",
       "      <td>1251004993152352258</td>\n",
       "      <td>RT @danielle_ivory: \"Two workers at the home, ...</td>\n",
       "      <td>2020-04-17 04:30:07</td>\n",
       "      <td>SocialFlow</td>\n",
       "      <td>66</td>\n",
       "      <td>0</td>\n",
       "    </tr>\n",
       "    <tr>\n",
       "      <th>197</th>\n",
       "      <td>1251000544484904963</td>\n",
       "      <td>Read updates in Chinese: 新冠病毒疫情最新消息 https://t....</td>\n",
       "      <td>2020-04-17 04:12:26</td>\n",
       "      <td>SocialFlow</td>\n",
       "      <td>28</td>\n",
       "      <td>95</td>\n",
       "    </tr>\n",
       "    <tr>\n",
       "      <th>198</th>\n",
       "      <td>1251000383641616384</td>\n",
       "      <td>—Brazil's president fired his health minister ...</td>\n",
       "      <td>2020-04-17 04:11:48</td>\n",
       "      <td>SocialFlow</td>\n",
       "      <td>167</td>\n",
       "      <td>405</td>\n",
       "    </tr>\n",
       "    <tr>\n",
       "      <th>199</th>\n",
       "      <td>1250997470139764738</td>\n",
       "      <td>A Massachusetts man was charged with trying to...</td>\n",
       "      <td>2020-04-17 04:00:13</td>\n",
       "      <td>SocialFlow</td>\n",
       "      <td>163</td>\n",
       "      <td>256</td>\n",
       "    </tr>\n",
       "  </tbody>\n",
       "</table>\n",
       "<p>200 rows × 6 columns</p>\n",
       "</div>"
      ],
      "text/plain": [
       "                tweet_id                                               text  \\\n",
       "0    1251737354815057920  It isn’t often that one needs driving lessons ...   \n",
       "1    1251726366367776768  Read updates in Chinese: 新冠病毒疫情最新消息 https://t....   \n",
       "2    1251726143767658497  The latest on the coronavirus:\\n—Israel said i...   \n",
       "3    1251724703452008449  Ciudad Perdida, Colombia’s “Lost City,” is stu...   \n",
       "4    1251717166606569473  Children bring all kinds of wacky things to be...   \n",
       "..                   ...                                                ...   \n",
       "195  1251007502357016580  President Trump has made many promises about r...   \n",
       "196  1251004993152352258  RT @danielle_ivory: \"Two workers at the home, ...   \n",
       "197  1251000544484904963  Read updates in Chinese: 新冠病毒疫情最新消息 https://t....   \n",
       "198  1251000383641616384  —Brazil's president fired his health minister ...   \n",
       "199  1250997470139764738  A Massachusetts man was charged with trying to...   \n",
       "\n",
       "                   time           source  retweets  favorites  \n",
       "0   2020-04-19 05:00:16       SocialFlow        61        233  \n",
       "1   2020-04-19 04:16:36  Twitter Web App        18         53  \n",
       "2   2020-04-19 04:15:43       SocialFlow        89        272  \n",
       "3   2020-04-19 04:09:59       SocialFlow       163        556  \n",
       "4   2020-04-19 03:40:02       SocialFlow        51        242  \n",
       "..                  ...              ...       ...        ...  \n",
       "195 2020-04-17 04:40:05       SocialFlow       281        637  \n",
       "196 2020-04-17 04:30:07       SocialFlow        66          0  \n",
       "197 2020-04-17 04:12:26       SocialFlow        28         95  \n",
       "198 2020-04-17 04:11:48       SocialFlow       167        405  \n",
       "199 2020-04-17 04:00:13       SocialFlow       163        256  \n",
       "\n",
       "[200 rows x 6 columns]"
      ]
     },
     "execution_count": 6,
     "metadata": {},
     "output_type": "execute_result"
    }
   ],
   "source": [
    "df"
   ]
  },
  {
   "cell_type": "code",
   "execution_count": 7,
   "metadata": {},
   "outputs": [
    {
     "data": {
      "text/plain": [
       "0      It isn’t often that one needs driving lessons ...\n",
       "1      Read updates in Chinese: 新冠病毒疫情最新消息 https://t....\n",
       "2      The latest on the coronavirus:\\n—Israel said i...\n",
       "3      Ciudad Perdida, Colombia’s “Lost City,” is stu...\n",
       "4      Children bring all kinds of wacky things to be...\n",
       "                             ...                        \n",
       "195    President Trump has made many promises about r...\n",
       "196    RT @danielle_ivory: \"Two workers at the home, ...\n",
       "197    Read updates in Chinese: 新冠病毒疫情最新消息 https://t....\n",
       "198    —Brazil's president fired his health minister ...\n",
       "199    A Massachusetts man was charged with trying to...\n",
       "Name: text, Length: 200, dtype: object"
      ]
     },
     "execution_count": 7,
     "metadata": {},
     "output_type": "execute_result"
    }
   ],
   "source": [
    "df['text']"
   ]
  },
  {
   "cell_type": "markdown",
   "metadata": {},
   "source": [
    "###### REMOVING THE USER HANDLES"
   ]
  },
  {
   "cell_type": "code",
   "execution_count": 8,
   "metadata": {},
   "outputs": [
    {
     "data": {
      "text/plain": [
       "0      It isn’t often that one needs driving lessons ...\n",
       "1      Read updates in Chinese: 新冠病毒疫情最新消息 https://t....\n",
       "2      The latest on the coronavirus:\\n—Israel said i...\n",
       "3      Ciudad Perdida, Colombia’s “Lost City,” is stu...\n",
       "4      Children bring all kinds of wacky things to be...\n",
       "                             ...                        \n",
       "195    President Trump has made many promises about r...\n",
       "196     : \"Two workers at the home, which has 227 bed...\n",
       "197    Read updates in Chinese: 新冠病毒疫情最新消息 https://t....\n",
       "198    —Brazil's president fired his health minister ...\n",
       "199    A Massachusetts man was charged with trying to...\n",
       "Name: tidy_tweet, Length: 200, dtype: object"
      ]
     },
     "execution_count": 8,
     "metadata": {},
     "output_type": "execute_result"
    }
   ],
   "source": [
    "# removing user handle \n",
    "df['tidy_tweet'] = df['text'].replace(to_replace ='(@[\\w]+)', value ='', regex = True) \n",
    "df['tidy_tweet'] = df['tidy_tweet'].replace(to_replace =('RT'), value ='',regex = True) \n",
    "df['tidy_tweet']"
   ]
  },
  {
   "cell_type": "markdown",
   "metadata": {},
   "source": [
    "##### REMOVE THE LINKS FROM THE TWEETS"
   ]
  },
  {
   "cell_type": "code",
   "execution_count": 9,
   "metadata": {},
   "outputs": [
    {
     "data": {
      "text/plain": [
       "0      It isn’t often that one needs driving lessons ...\n",
       "1                  Read updates in Chinese: 新冠病毒疫情最新消息 \u0000\n",
       "2      The latest on the coronavirus:\\n—Israel said i...\n",
       "3      Ciudad Perdida, Colombia’s “Lost City,” is stu...\n",
       "4      Children bring all kinds of wacky things to be...\n",
       "                             ...                        \n",
       "195    President Trump has made many promises about r...\n",
       "196     : \"Two workers at the home, which has 227 bed...\n",
       "197                Read updates in Chinese: 新冠病毒疫情最新消息 \u0000\n",
       "198    —Brazil's president fired his health minister ...\n",
       "199    A Massachusetts man was charged with trying to...\n",
       "Name: tidy_tweet, Length: 200, dtype: object"
      ]
     },
     "execution_count": 9,
     "metadata": {},
     "output_type": "execute_result"
    }
   ],
   "source": [
    "#remove any links from the tweet: Links not required for performing sentiment analysis.\n",
    "df['tidy_tweet'] = df['tidy_tweet'].str.replace('((www\\.[\\s]+)|(https?://[^\\s]+))','\\0',regex=True)\n",
    "df['tidy_tweet']"
   ]
  },
  {
   "cell_type": "markdown",
   "metadata": {},
   "source": [
    "##### REMOVE SPECIAL CHARACTERS,PUNCTUATION,NUMBERS"
   ]
  },
  {
   "cell_type": "code",
   "execution_count": 10,
   "metadata": {},
   "outputs": [],
   "source": [
    "# remove special characters, numbers, punctuations: None of them would add any value to the sentiment score.\n",
    "df['tidy_tweet'] = df['tidy_tweet'].str.replace(\"[^a-zA-Z]+\", \" \")"
   ]
  },
  {
   "cell_type": "code",
   "execution_count": 11,
   "metadata": {},
   "outputs": [
    {
     "data": {
      "text/plain": [
       "0      It isn t often that one needs driving lessons ...\n",
       "1                               Read updates in Chinese \n",
       "2      The latest on the coronavirus Israel said it w...\n",
       "3      Ciudad Perdida Colombia s Lost City is stunnin...\n",
       "4      Children bring all kinds of wacky things to be...\n",
       "                             ...                        \n",
       "195    President Trump has made many promises about r...\n",
       "196     Two workers at the home which has beds also t...\n",
       "197                             Read updates in Chinese \n",
       "198     Brazil s president fired his health minister ...\n",
       "199    A Massachusetts man was charged with trying to...\n",
       "Name: tidy_tweet, Length: 200, dtype: object"
      ]
     },
     "execution_count": 11,
     "metadata": {},
     "output_type": "execute_result"
    }
   ],
   "source": [
    "df['tidy_tweet']"
   ]
  },
  {
   "cell_type": "markdown",
   "metadata": {},
   "source": [
    "##### TOKENIZING AND REMOVE THE STOP WORDS"
   ]
  },
  {
   "cell_type": "code",
   "execution_count": 12,
   "metadata": {},
   "outputs": [],
   "source": [
    "df[\"tidy_tweet\"] = df[\"tidy_tweet\"].str.lower()\n",
    "df[\"tidy_tweet\"] = df[\"tidy_tweet\"].str.split()\n",
    "from nltk.corpus import stopwords\n",
    "\n",
    "stop = stopwords.words('english')"
   ]
  },
  {
   "cell_type": "code",
   "execution_count": 13,
   "metadata": {},
   "outputs": [
    {
     "data": {
      "text/plain": [
       "0      [often, one, needs, driving, lessons, guide, r...\n",
       "1                               [read, updates, chinese]\n",
       "2      [latest, coronavirus, israel, said, would, soo...\n",
       "3      [ciudad, perdida, colombia, lost, city, stunni...\n",
       "4      [children, bring, kinds, wacky, things, bed, s...\n",
       "                             ...                        \n",
       "195    [president, trump, made, many, promises, respo...\n",
       "196    [two, workers, home, beds, also, told, actual,...\n",
       "197                             [read, updates, chinese]\n",
       "198    [brazil, president, fired, health, minister, d...\n",
       "199    [massachusetts, man, charged, trying, blow, je...\n",
       "Name: tidy_tweet, Length: 200, dtype: object"
      ]
     },
     "execution_count": 13,
     "metadata": {},
     "output_type": "execute_result"
    }
   ],
   "source": [
    "df['tidy_tweet']=df['tidy_tweet'].apply(lambda x: [item for item in x if item not in stop])\n",
    "df['tidy_tweet']"
   ]
  },
  {
   "cell_type": "code",
   "execution_count": 14,
   "metadata": {},
   "outputs": [],
   "source": [
    "def rejoin_words(row):\n",
    "    my_list = row['tidy_tweet']\n",
    "    joined_words = ( \" \".join(my_list))\n",
    "    return joined_words\n",
    "\n",
    "df['tidy_tweet'] = df.apply(rejoin_words, axis=1)\n"
   ]
  },
  {
   "cell_type": "code",
   "execution_count": 15,
   "metadata": {},
   "outputs": [
    {
     "data": {
      "text/plain": [
       "0      often one needs driving lessons guide robot ar...\n",
       "1                                   read updates chinese\n",
       "2      latest coronavirus israel said would soon begi...\n",
       "3      ciudad perdida colombia lost city stunning sca...\n",
       "4      children bring kinds wacky things bed spoke ex...\n",
       "                             ...                        \n",
       "195    president trump made many promises responding ...\n",
       "196    two workers home beds also told actual death t...\n",
       "197                                 read updates chinese\n",
       "198    brazil president fired health minister disagre...\n",
       "199    massachusetts man charged trying blow jewish a...\n",
       "Name: tidy_tweet, Length: 200, dtype: object"
      ]
     },
     "execution_count": 15,
     "metadata": {},
     "output_type": "execute_result"
    }
   ],
   "source": [
    "df['tidy_tweet']"
   ]
  },
  {
   "cell_type": "markdown",
   "metadata": {},
   "source": [
    "##### LEMMATIZATION"
   ]
  },
  {
   "cell_type": "code",
   "execution_count": 16,
   "metadata": {},
   "outputs": [],
   "source": [
    "import nltk\n",
    "w_tokenizer = nltk.tokenize.WhitespaceTokenizer()\n",
    "lemmatizer = nltk.stem.WordNetLemmatizer()\n",
    "\n",
    "def lemmatize_text(text):\n",
    "    return [lemmatizer.lemmatize(w) for w in w_tokenizer.tokenize(text)]\n",
    "\n",
    "df['tidy_tweet'] = df['tidy_tweet'].apply(lemmatize_text)"
   ]
  },
  {
   "cell_type": "code",
   "execution_count": 17,
   "metadata": {},
   "outputs": [
    {
     "data": {
      "text/plain": [
       "0      [often, one, need, driving, lesson, guide, rob...\n",
       "1                                [read, update, chinese]\n",
       "2      [latest, coronavirus, israel, said, would, soo...\n",
       "3      [ciudad, perdida, colombia, lost, city, stunni...\n",
       "4      [child, bring, kind, wacky, thing, bed, spoke,...\n",
       "                             ...                        \n",
       "195    [president, trump, made, many, promise, respon...\n",
       "196    [two, worker, home, bed, also, told, actual, d...\n",
       "197                              [read, update, chinese]\n",
       "198    [brazil, president, fired, health, minister, d...\n",
       "199    [massachusetts, man, charged, trying, blow, je...\n",
       "Name: tidy_tweet, Length: 200, dtype: object"
      ]
     },
     "execution_count": 17,
     "metadata": {},
     "output_type": "execute_result"
    }
   ],
   "source": [
    "df['tidy_tweet']"
   ]
  },
  {
   "cell_type": "code",
   "execution_count": 18,
   "metadata": {},
   "outputs": [],
   "source": [
    "def rejoin_words(row):\n",
    "    my_list = row['tidy_tweet']\n",
    "    joined_words = ( \" \".join(my_list))\n",
    "    return joined_words\n",
    "\n",
    "df['tidy_tweet'] = df.apply(rejoin_words, axis=1)"
   ]
  },
  {
   "cell_type": "code",
   "execution_count": 19,
   "metadata": {},
   "outputs": [
    {
     "data": {
      "text/plain": [
       "0      often one need driving lesson guide robot art ...\n",
       "1                                    read update chinese\n",
       "2      latest coronavirus israel said would soon begi...\n",
       "3      ciudad perdida colombia lost city stunning sca...\n",
       "4      child bring kind wacky thing bed spoke expert ...\n",
       "                             ...                        \n",
       "195    president trump made many promise responding c...\n",
       "196    two worker home bed also told actual death tol...\n",
       "197                                  read update chinese\n",
       "198    brazil president fired health minister disagre...\n",
       "199    massachusetts man charged trying blow jewish a...\n",
       "Name: tidy_tweet, Length: 200, dtype: object"
      ]
     },
     "execution_count": 19,
     "metadata": {},
     "output_type": "execute_result"
    }
   ],
   "source": [
    "df['tidy_tweet']"
   ]
  },
  {
   "cell_type": "code",
   "execution_count": 20,
   "metadata": {},
   "outputs": [
    {
     "data": {
      "text/plain": [
       "tweet_id      0\n",
       "text          0\n",
       "time          0\n",
       "source        0\n",
       "retweets      0\n",
       "favorites     0\n",
       "tidy_tweet    0\n",
       "dtype: int64"
      ]
     },
     "execution_count": 20,
     "metadata": {},
     "output_type": "execute_result"
    }
   ],
   "source": [
    "df.isnull().sum()"
   ]
  },
  {
   "cell_type": "markdown",
   "metadata": {},
   "source": [
    "##### CHECK THE SENTIMENT USING TEXTBLOB "
   ]
  },
  {
   "cell_type": "code",
   "execution_count": 21,
   "metadata": {},
   "outputs": [],
   "source": [
    "from textblob import TextBlob\n",
    "df[['polarity', 'subjectivity']] = df['tidy_tweet'].apply(lambda Text: pd.Series(TextBlob(Text).sentiment))"
   ]
  },
  {
   "cell_type": "code",
   "execution_count": 22,
   "metadata": {},
   "outputs": [
    {
     "data": {
      "text/html": [
       "<div>\n",
       "<style scoped>\n",
       "    .dataframe tbody tr th:only-of-type {\n",
       "        vertical-align: middle;\n",
       "    }\n",
       "\n",
       "    .dataframe tbody tr th {\n",
       "        vertical-align: top;\n",
       "    }\n",
       "\n",
       "    .dataframe thead th {\n",
       "        text-align: right;\n",
       "    }\n",
       "</style>\n",
       "<table border=\"1\" class=\"dataframe\">\n",
       "  <thead>\n",
       "    <tr style=\"text-align: right;\">\n",
       "      <th></th>\n",
       "      <th>text</th>\n",
       "      <th>polarity</th>\n",
       "      <th>subjectivity</th>\n",
       "    </tr>\n",
       "  </thead>\n",
       "  <tbody>\n",
       "    <tr>\n",
       "      <th>0</th>\n",
       "      <td>It isn’t often that one needs driving lessons ...</td>\n",
       "      <td>-0.050000</td>\n",
       "      <td>0.150000</td>\n",
       "    </tr>\n",
       "    <tr>\n",
       "      <th>1</th>\n",
       "      <td>Read updates in Chinese: 新冠病毒疫情最新消息 https://t....</td>\n",
       "      <td>0.000000</td>\n",
       "      <td>0.000000</td>\n",
       "    </tr>\n",
       "    <tr>\n",
       "      <th>2</th>\n",
       "      <td>The latest on the coronavirus:\\n—Israel said i...</td>\n",
       "      <td>0.500000</td>\n",
       "      <td>0.900000</td>\n",
       "    </tr>\n",
       "    <tr>\n",
       "      <th>3</th>\n",
       "      <td>Ciudad Perdida, Colombia’s “Lost City,” is stu...</td>\n",
       "      <td>0.500000</td>\n",
       "      <td>1.000000</td>\n",
       "    </tr>\n",
       "    <tr>\n",
       "      <th>4</th>\n",
       "      <td>Children bring all kinds of wacky things to be...</td>\n",
       "      <td>0.550000</td>\n",
       "      <td>0.950000</td>\n",
       "    </tr>\n",
       "    <tr>\n",
       "      <th>...</th>\n",
       "      <td>...</td>\n",
       "      <td>...</td>\n",
       "      <td>...</td>\n",
       "    </tr>\n",
       "    <tr>\n",
       "      <th>195</th>\n",
       "      <td>President Trump has made many promises about r...</td>\n",
       "      <td>0.500000</td>\n",
       "      <td>0.500000</td>\n",
       "    </tr>\n",
       "    <tr>\n",
       "      <th>196</th>\n",
       "      <td>RT @danielle_ivory: \"Two workers at the home, ...</td>\n",
       "      <td>0.050000</td>\n",
       "      <td>0.275000</td>\n",
       "    </tr>\n",
       "    <tr>\n",
       "      <th>197</th>\n",
       "      <td>Read updates in Chinese: 新冠病毒疫情最新消息 https://t....</td>\n",
       "      <td>0.000000</td>\n",
       "      <td>0.000000</td>\n",
       "    </tr>\n",
       "    <tr>\n",
       "      <th>198</th>\n",
       "      <td>—Brazil's president fired his health minister ...</td>\n",
       "      <td>-0.388889</td>\n",
       "      <td>0.833333</td>\n",
       "    </tr>\n",
       "    <tr>\n",
       "      <th>199</th>\n",
       "      <td>A Massachusetts man was charged with trying to...</td>\n",
       "      <td>-0.050000</td>\n",
       "      <td>0.050000</td>\n",
       "    </tr>\n",
       "  </tbody>\n",
       "</table>\n",
       "<p>200 rows × 3 columns</p>\n",
       "</div>"
      ],
      "text/plain": [
       "                                                  text  polarity  subjectivity\n",
       "0    It isn’t often that one needs driving lessons ... -0.050000      0.150000\n",
       "1    Read updates in Chinese: 新冠病毒疫情最新消息 https://t....  0.000000      0.000000\n",
       "2    The latest on the coronavirus:\\n—Israel said i...  0.500000      0.900000\n",
       "3    Ciudad Perdida, Colombia’s “Lost City,” is stu...  0.500000      1.000000\n",
       "4    Children bring all kinds of wacky things to be...  0.550000      0.950000\n",
       "..                                                 ...       ...           ...\n",
       "195  President Trump has made many promises about r...  0.500000      0.500000\n",
       "196  RT @danielle_ivory: \"Two workers at the home, ...  0.050000      0.275000\n",
       "197  Read updates in Chinese: 新冠病毒疫情最新消息 https://t....  0.000000      0.000000\n",
       "198  —Brazil's president fired his health minister ... -0.388889      0.833333\n",
       "199  A Massachusetts man was charged with trying to... -0.050000      0.050000\n",
       "\n",
       "[200 rows x 3 columns]"
      ]
     },
     "execution_count": 22,
     "metadata": {},
     "output_type": "execute_result"
    }
   ],
   "source": [
    "df[['text','polarity', 'subjectivity']]"
   ]
  },
  {
   "cell_type": "code",
   "execution_count": 23,
   "metadata": {},
   "outputs": [],
   "source": [
    "single_tweet=df['text'][100]\n",
    "tidy_tweet1=df['tidy_tweet'][100]"
   ]
  },
  {
   "cell_type": "code",
   "execution_count": 24,
   "metadata": {},
   "outputs": [
    {
     "name": "stdout",
     "output_type": "stream",
     "text": [
      "The New York Liberty chose Oregon’s Sabrina Ionescu with the No. 1 pick in the WNBA draft. The season is postponed… https://t.co/E427v9vbUd\n",
      "neg\n"
     ]
    }
   ],
   "source": [
    "from textblob.sentiments import NaiveBayesAnalyzer\n",
    "analysis = TextBlob(tidy_tweet1,analyzer=NaiveBayesAnalyzer())\n",
    "print(single_tweet)\n",
    "print(analysis.sentiment[0])"
   ]
  }
 ],
 "metadata": {
  "kernelspec": {
   "display_name": "Python 3",
   "language": "python",
   "name": "python3"
  },
  "language_info": {
   "codemirror_mode": {
    "name": "ipython",
    "version": 3
   },
   "file_extension": ".py",
   "mimetype": "text/x-python",
   "name": "python",
   "nbconvert_exporter": "python",
   "pygments_lexer": "ipython3",
   "version": "3.7.6"
  }
 },
 "nbformat": 4,
 "nbformat_minor": 4
}
